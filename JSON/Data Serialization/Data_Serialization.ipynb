{
  "nbformat": 4,
  "nbformat_minor": 0,
  "metadata": {
    "colab": {
      "provenance": []
    },
    "kernelspec": {
      "name": "python3",
      "display_name": "Python 3"
    },
    "language_info": {
      "name": "python"
    }
  },
  "cells": [
    {
      "cell_type": "markdown",
      "source": [
        "# Data Serialization & Desialization\n"
      ],
      "metadata": {
        "id": "4_eOoxu6_SIC"
      }
    },
    {
      "cell_type": "code",
      "execution_count": null,
      "metadata": {
        "id": "6HGVTP7N_L4C"
      },
      "outputs": [],
      "source": [
        "#import libraries\n",
        "import pickle"
      ]
    },
    {
      "cell_type": "code",
      "source": [
        "#Serialization\n",
        "with open(\"pickled.txt\", \"wb\") as f: # 'wb' STANDS FOR write binary MODE\n",
        "    dct = {\"name\": \"John\", \"age\": 23, \"gender\": \"male\", \"marks\": 75}\n",
        "    pickle.dump(dct, f)\n",
        "f.close()"
      ],
      "metadata": {
        "id": "u9KxOO2EACRU"
      },
      "execution_count": null,
      "outputs": []
    },
    {
      "cell_type": "markdown",
      "source": [
        "when the above code is executed, the dictionary object's byte represenation will be stored in \"pickled.txt\" file.The file must have \"write and binary\" mode enabled."
      ],
      "metadata": {
        "id": "Wehhx_V8BIIH"
      }
    },
    {
      "cell_type": "code",
      "source": [
        "#Deserialization\n",
        "\n",
        "f = open(\"pickled.txt\", \"rb\")\n",
        "dct = pickle.load(f)\n",
        "print(dct)\n",
        "f.close()"
      ],
      "metadata": {
        "colab": {
          "base_uri": "https://localhost:8080/"
        },
        "id": "-lBFi2ElByfE",
        "outputId": "f1cc33b6-26e3-4d11-f242-784e87c3e625"
      },
      "execution_count": null,
      "outputs": [
        {
          "output_type": "stream",
          "name": "stdout",
          "text": [
            "{'name': 'John', 'age': 23, 'gender': 'male', 'marks': 75}\n"
          ]
        }
      ]
    },
    {
      "cell_type": "markdown",
      "source": [
        "Note: some times the the dictionary object does not retain order of insertion of keys. Hence the k-v pairs in received dictionary may not be in original order."
      ],
      "metadata": {
        "id": "CekrwL10DH1S"
      }
    },
    {
      "cell_type": "markdown",
      "source": [
        "### Dump/load\n",
        "The pickle module also consists of dumps() function that pickle data to a string opertaion."
      ],
      "metadata": {
        "id": "JmA4Fzd-E5wd"
      }
    },
    {
      "cell_type": "code",
      "source": [
        "from pickle import dumps\n",
        "\n",
        "dct = {\"name\": \"John\", \"age\": 23, \"gender\": \"male\", \"marks\": 75}\n",
        "\n",
        "#dump\n",
        "data = dumps(dct)\n",
        "print(data)"
      ],
      "metadata": {
        "colab": {
          "base_uri": "https://localhost:8080/"
        },
        "id": "DnPzpD7EE0fN",
        "outputId": "5f823572-6e56-4551-99b2-ed5dc8efe267"
      },
      "execution_count": null,
      "outputs": [
        {
          "output_type": "stream",
          "name": "stdout",
          "text": [
            "b'\\x80\\x04\\x955\\x00\\x00\\x00\\x00\\x00\\x00\\x00}\\x94(\\x8c\\x04name\\x94\\x8c\\x04John\\x94\\x8c\\x03age\\x94K\\x17\\x8c\\x06gender\\x94\\x8c\\x04male\\x94\\x8c\\x05marks\\x94KKu.'\n"
          ]
        }
      ]
    },
    {
      "cell_type": "markdown",
      "source": [
        "Use loads() function to unpickle string and obtain original dictionary"
      ],
      "metadata": {
        "id": "H5TLeNQ3GBoG"
      }
    },
    {
      "cell_type": "code",
      "source": [
        "from pickle import loads\n",
        "\n",
        "dct = loads(data)\n",
        "print(dct)\n"
      ],
      "metadata": {
        "colab": {
          "base_uri": "https://localhost:8080/"
        },
        "id": "QWr_xv6nGIRm",
        "outputId": "a035e9f8-1e17-4da6-c667-81ff5b702856"
      },
      "execution_count": null,
      "outputs": [
        {
          "output_type": "stream",
          "name": "stdout",
          "text": [
            "{'name': 'John', 'age': 23, 'gender': 'male', 'marks': 75}\n"
          ]
        }
      ]
    },
    {
      "cell_type": "markdown",
      "source": [
        "Example 2"
      ],
      "metadata": {
        "id": "ghOpoSIYHQn8"
      }
    },
    {
      "cell_type": "code",
      "source": [
        "import pickle\n",
        "\n",
        "#create function\n",
        "def store_data():\n",
        "    #Initializing data to be stored in db\n",
        "    Omkar = {'key' : 'Omkar', 'name' : 'Omkar Pathak', 'age' : 21, 'pay' : 40000}\n",
        "    Jagdish = {'key' : 'Jagdish', 'name' : 'Jagdish Pathak', 'age' :50, 'pay' : 50000}\n",
        "\n",
        "    #database\n",
        "    #append using ab mode (append binary mode)\n",
        "    db = {}\n",
        "    db['Omkar'] = Omkar\n",
        "    db['Jagdish'] = Jagdish\n",
        "    # Its important to use binary mode\n",
        "    dbfile = open('examplePickle.txt', 'ab')\n",
        "\n",
        "    # SERIALIZE\n",
        "    # source, destination\n",
        "    pickle.dump(db, dbfile)\n",
        "    dbfile.close()\n",
        "    print(\"Pickling complete\")\n",
        "\n",
        "\n",
        "#load data(deserialize)\n",
        "def load_data():\n",
        "    # for reading also binary mode is important\n",
        "    dbfile = open('examplePickle.txt', 'rb')\n",
        "    db = pickle.load(dbfile)\n",
        "    for keys in db:\n",
        "        print(keys, '=>', db[keys])\n",
        "    dbfile.close()\n",
        "\n",
        "\n",
        "if __name__ == '__main__': # this is used to avoid repeatation when the module is called.\n",
        "    store_data()\n",
        "    load_data()\n"
      ],
      "metadata": {
        "colab": {
          "base_uri": "https://localhost:8080/"
        },
        "id": "rwon317NGsx0",
        "outputId": "d9c086d2-fc42-43fd-853c-dcee9bcb4ec7"
      },
      "execution_count": null,
      "outputs": [
        {
          "output_type": "stream",
          "name": "stdout",
          "text": [
            "Pickling complete\n",
            "Omkar => {'key': 'Omkar', 'name': 'Omkar Pathak', 'age': 21, 'pay': 40000}\n",
            "Jagdish => {'key': 'Jagdish', 'name': 'Jagdish Pathak', 'age': 50, 'pay': 50000}\n"
          ]
        }
      ]
    },
    {
      "cell_type": "code",
      "source": [],
      "metadata": {
        "id": "7-eHY8GjOTMD"
      },
      "execution_count": null,
      "outputs": []
    }
  ]
}