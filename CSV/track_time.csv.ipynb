{
 "cells": [
  {
   "cell_type": "markdown",
   "metadata": {},
   "source": [
    "|Meet  1|Meet  2|Meet 3|\n",
    "|-------|-------|------|\n",
    "|13.10  |13.59  |13.44 |\n",
    "|13.93  |13.85  |13.47 |\n",
    "|14.12  |14.41  |13.89 |\n",
    "|14.42  |13.55  |13.43 |"
   ]
  },
  {
   "cell_type": "code",
   "execution_count": 13,
   "metadata": {},
   "outputs": [
    {
     "data": {
      "text/plain": [
       "[[13.1, 13.59, 13.44],\n",
       " [13.93, 13.85, 13.47],\n",
       " [14.12, 14.41, 13.89],\n",
       " [14.42, 13.55, 13.43]]"
      ]
     },
     "execution_count": 13,
     "metadata": {},
     "output_type": "execute_result"
    }
   ],
   "source": [
    "#representing dataset in python\n",
    "\n",
    "track_times = [\n",
    "    [13.10,13.59,13.44],\n",
    "    [13.93,13.85,13.47],\n",
    "    [14.12,14.41,13.89],\n",
    "    [14.42,13.55,13.43]\n",
    "]\n",
    "track_times"
   ]
  },
  {
   "cell_type": "code",
   "execution_count": 17,
   "metadata": {},
   "outputs": [
    {
     "name": "stdout",
     "output_type": "stream",
     "text": [
      "13.1,13.59,13.44\n",
      "13.93,13.85,13.47\n",
      "14.12,14.41,13.89\n",
      "14.42,13.55,13.43\n"
     ]
    }
   ],
   "source": [
    "#Serialization.\n",
    "\n",
    "track_times_csv = \"\"\n",
    "\n",
    "for index, athlete_times in enumerate(track_times):\n",
    "    athlete_times_string = \",\".join([str(time) for time in athlete_times])\n",
    "    track_times_csv += athlete_times_string\n",
    "    if index < (len(track_times) -1):\n",
    "        track_times_csv += \"\\n\"\n",
    "        \n",
    "print(track_times_csv)\n",
    "\n",
    "#and thats a csv."
   ]
  },
  {
   "cell_type": "code",
   "execution_count": 22,
   "metadata": {},
   "outputs": [],
   "source": [
    "#we can write it to a file like this.\n",
    "\n",
    "with open (\"track_times.csv\", \"w\") as f:\n",
    "    f.write(track_times_csv)"
   ]
  },
  {
   "cell_type": "code",
   "execution_count": 23,
   "metadata": {},
   "outputs": [
    {
     "name": "stdout",
     "output_type": "stream",
     "text": [
      "13.1,13.59,13.44\n",
      "13.93,13.85,13.47\n",
      "14.12,14.41,13.89\n",
      "14.42,13.55,13.43\n"
     ]
    }
   ],
   "source": [
    "#Then later we can open up the file and deserialize the data back intoa list of lists\n",
    "\n",
    "with open(\"track_times.csv\") as f:\n",
    "    track_times_csv_from_disk = f.read()\n",
    "print(track_times_csv_from_disk)"
   ]
  },
  {
   "cell_type": "code",
   "execution_count": 24,
   "metadata": {},
   "outputs": [
    {
     "data": {
      "text/plain": [
       "[[13.1, 13.59, 13.44],\n",
       " [13.93, 13.85, 13.47],\n",
       " [14.12, 14.41, 13.89],\n",
       " [14.42, 13.55, 13.43]]"
      ]
     },
     "execution_count": 24,
     "metadata": {},
     "output_type": "execute_result"
    }
   ],
   "source": [
    "track_times_from_disk = []\n",
    "for row in track_times_csv_from_disk.split(\"\\n\"):\n",
    "    times = [float(time) for time in row.split(\",\")]\n",
    "    track_times_from_disk.append(times)\n",
    "    \n",
    "track_times_from_disk"
   ]
  },
  {
   "cell_type": "code",
   "execution_count": 26,
   "metadata": {},
   "outputs": [
    {
     "data": {
      "text/plain": [
       "True"
      ]
     },
     "execution_count": 26,
     "metadata": {},
     "output_type": "execute_result"
    }
   ],
   "source": [
    "track_times_from_disk == track_times"
   ]
  },
  {
   "cell_type": "code",
   "execution_count": 27,
   "metadata": {},
   "outputs": [],
   "source": [
    "#csv module : to use csv module start by importing it.\n",
    "\n",
    "import csv"
   ]
  },
  {
   "cell_type": "code",
   "execution_count": null,
   "metadata": {},
   "outputs": [],
   "source": []
  }
 ],
 "metadata": {
  "kernelspec": {
   "display_name": "Python (learn-env)",
   "language": "python",
   "name": "learn-env"
  },
  "language_info": {
   "codemirror_mode": {
    "name": "ipython",
    "version": 3
   },
   "file_extension": ".py",
   "mimetype": "text/x-python",
   "name": "python",
   "nbconvert_exporter": "python",
   "pygments_lexer": "ipython3",
   "version": "3.8.5"
  }
 },
 "nbformat": 4,
 "nbformat_minor": 4
}
