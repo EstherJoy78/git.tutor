{
 "cells": [
  {
   "cell_type": "markdown",
   "metadata": {},
   "source": [
    "|student 1| student 2| student 3|\n",
    "|---------|----------|----------|\n",
    "|71       |62        |78        |\n",
    "|65       |73        |67        |\n",
    "|78       |65        |82        |"
   ]
  },
  {
   "cell_type": "code",
   "execution_count": 1,
   "id": "ce2b9f2c",
   "metadata": {},
   "outputs": [],
   "source": [
    "scores= [\n",
    "    [71,62,78],\n",
    "    [65,73,67],\n",
    "    [78,65,82]]"
   ]
  },
  {
   "cell_type": "code",
   "execution_count": 2,
   "id": "d1e74ad1",
   "metadata": {},
   "outputs": [
    {
     "name": "stdout",
     "output_type": "stream",
     "text": [
      "71,62,78\n",
      "65,73,67\n",
      "78,65,82\n"
     ]
    }
   ],
   "source": [
    "scores_csv=\"\"\n",
    "for index,student_marks in enumerate(scores):\n",
    "    csv_line=\",\".join(map(str,student_marks))\n",
    "    scores_csv+=csv_line\n",
    "    if index<(len(scores)-1):\n",
    "        scores_csv+=\"\\n\"\n",
    "print(scores_csv)"
   ]
  },
  {
   "cell_type": "code",
   "execution_count": 3,
   "id": "e0bab238",
   "metadata": {},
   "outputs": [],
   "source": [
    "import csv"
   ]
  },
  {
   "cell_type": "code",
   "execution_count": 5,
   "id": "f4ebd97b",
   "metadata": {},
   "outputs": [
    {
     "name": "stdout",
     "output_type": "stream",
     "text": [
      "71,62,78\n",
      "65,73,67\n",
      "78,65,82\n"
     ]
    }
   ],
   "source": [
    "with open(\"scores_csv\", \"w\") as f:\n",
    "    f.write(scores_csv)\n",
    "    print(scores_csv)\n"
   ]
  },
  {
   "cell_type": "code",
   "execution_count": 6,
   "id": "d8a1e126",
   "metadata": {},
   "outputs": [
    {
     "name": "stdout",
     "output_type": "stream",
     "text": [
      "71,62,78\n",
      "65,73,67\n",
      "78,65,82\n"
     ]
    }
   ],
   "source": [
    "with open(\"scores_csv\") as f:\n",
    "    scores_csv= f.read()\n",
    "print(scores_csv)"
   ]
  }
 ],
 "metadata": {
  "kernelspec": {
   "display_name": "Python 3",
   "language": "python",
   "name": "python3"
  },
  "language_info": {
   "codemirror_mode": {
    "name": "ipython",
    "version": 3
   },
   "file_extension": ".py",
   "mimetype": "text/x-python",
   "name": "python",
   "nbconvert_exporter": "python",
   "pygments_lexer": "ipython3",
   "version": "3.8.5"
  }
 },
 "nbformat": 4,
 "nbformat_minor": 5
}
