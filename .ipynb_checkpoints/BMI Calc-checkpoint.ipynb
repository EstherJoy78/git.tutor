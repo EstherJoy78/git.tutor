{
 "cells": [
  {
   "cell_type": "code",
   "execution_count": null,
   "metadata": {},
   "outputs": [],
   "source": [
    "#BMI CALCULATOR."
   ]
  },
  {
   "cell_type": "code",
   "execution_count": 6,
   "metadata": {},
   "outputs": [
    {
     "name": "stdout",
     "output_type": "stream",
     "text": [
      "Hello(name), Welcome to our BMI calculation system.\n"
     ]
    }
   ],
   "source": [
    "name = input(\" what is your name:\")\n",
    "print(f\"Hello(name), Welcome to our BMI calculation system.\" )"
   ]
  },
  {
   "cell_type": "code",
   "execution_count": 9,
   "metadata": {},
   "outputs": [
    {
     "name": "stdout",
     "output_type": "stream",
     "text": [
      "provide us with the information below.\n",
      "============BMI results==========\n",
      "your BMI is 1.6349583828775267\n",
      "underweight\n"
     ]
    }
   ],
   "source": [
    "print(\"provide us with the information below.\")\n",
    "weight = float(input(\"enter your weight :Kgs\"))\n",
    "height = float(input(\"enter your height: Meters\"))\n",
    "\n",
    "BMI = weight/(height * height)\n",
    "\n",
    "print (\"============BMI results==========\")\n",
    "print(f\"your BMI is {BMI}\")\n",
    "if BMI > 25: \n",
    "   print(\"overweight\")\n",
    "elif BMI < 18:\n",
    "     print(\"underweight\")\n",
    "else :\n",
    "    print(\"normal\")"
   ]
  }
 ],
 "metadata": {
  "kernelspec": {
   "display_name": "learn-env",
   "language": "python",
   "name": "python3"
  },
  "language_info": {
   "codemirror_mode": {
    "name": "ipython",
    "version": 3
   },
   "file_extension": ".py",
   "mimetype": "text/x-python",
   "name": "python",
   "nbconvert_exporter": "python",
   "pygments_lexer": "ipython3",
   "version": "3.8.5"
  }
 },
 "nbformat": 4,
 "nbformat_minor": 2
}
