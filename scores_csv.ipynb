{
 "cells": [
  {
   "cell_type": "markdown",
   "id": "3c715e5a-ccd9-4dcb-a79d-b033d6f0665d",
   "metadata": {},
   "source": [
    "|student 1| student 2| student 3|\n",
    "|---------|----------|----------|\n",
    "|71       |62        |78        |\n",
    "|65       |73        |67        |\n",
    "|78       |65        |82        |"
   ]
  },
  {
   "cell_type": "code",
   "execution_count": 1,
   "id": "93c86c3f-ee61-482b-a68e-ddf5909a8915",
   "metadata": {},
   "outputs": [],
   "source": [
    "scores= [\n",
    "    [71,62,78],\n",
    "    [65,73,67],\n",
    "    [78,65,82]]"
   ]
  },
  {
   "cell_type": "code",
   "execution_count": 2,
   "id": "5a191216-5e94-462f-acfd-7eba78a6113d",
   "metadata": {},
   "outputs": [
    {
     "name": "stdout",
     "output_type": "stream",
     "text": [
      "71,62,78\n",
      "65,73,67\n",
      "78,65,82\n"
     ]
    }
   ],
   "source": [
    "scores_csv=\"\"\n",
    "for index,student_marks in enumerate(scores):\n",
    "    csv_line=\",\".join(map(str,student_marks))\n",
    "    scores_csv+=csv_line\n",
    "    if index<(len(scores)-1):\n",
    "        scores_csv+=\"\\n\"\n",
    "print(scores_csv)"
   ]
  },
  {
   "cell_type": "code",
   "execution_count": 3,
   "id": "bd4bbc6d-7c81-41cf-8b4a-74d36dce2685",
   "metadata": {},
   "outputs": [],
   "source": [
    "import csv"
   ]
  },
  {
   "cell_type": "code",
   "execution_count": 5,
   "id": "7394bb59-ee7c-4018-8b65-73d473c91f02",
   "metadata": {},
   "outputs": [
    {
     "name": "stdout",
     "output_type": "stream",
     "text": [
      "71,62,78\n",
      "65,73,67\n",
      "78,65,82\n"
     ]
    }
   ],
   "source": [
    "with open(\"scores_csv\", \"w\") as f:\n",
    "    f.write(scores_csv)\n",
    "    print(scores_csv)\n"
   ]
  },
  {
   "cell_type": "code",
   "execution_count": 6,
   "id": "3d64a542-12d6-47ac-8801-70b54f579418",
   "metadata": {},
   "outputs": [
    {
     "name": "stdout",
     "output_type": "stream",
     "text": [
      "71,62,78\n",
      "65,73,67\n",
      "78,65,82\n"
     ]
    }
   ],
   "source": [
    "with open(\"scores_csv\") as f:\n",
    "    scores_csv= f.read()\n",
    "print(scores_csv)"
   ]
  },
  {
   "cell_type": "code",
   "execution_count": null,
   "id": "151de214-43ec-4e15-b8aa-cea47a90d9c2",
   "metadata": {},
   "outputs": [],
   "source": []
  }
 ],
 "metadata": {
  "kernelspec": {
   "display_name": "Python 3 (ipykernel)",
   "language": "python",
   "name": "python3"
  },
  "language_info": {
   "codemirror_mode": {
    "name": "ipython",
    "version": 3
   },
   "file_extension": ".py",
   "mimetype": "text/x-python",
   "name": "python",
   "nbconvert_exporter": "python",
   "pygments_lexer": "ipython3",
   "version": "3.11.7"
  }
 },
 "nbformat": 4,
 "nbformat_minor": 5
}
